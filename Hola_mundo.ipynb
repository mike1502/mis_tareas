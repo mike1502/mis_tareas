{
  "nbformat": 4,
  "nbformat_minor": 0,
  "metadata": {
    "colab": {
      "provenance": [],
      "authorship_tag": "ABX9TyOVHChjTh2ZJAW96YGDf8b2",
      "include_colab_link": true
    },
    "kernelspec": {
      "name": "python3",
      "display_name": "Python 3"
    },
    "language_info": {
      "name": "python"
    }
  },
  "cells": [
    {
      "cell_type": "markdown",
      "metadata": {
        "id": "view-in-github",
        "colab_type": "text"
      },
      "source": [
        "<a href=\"https://colab.research.google.com/github/mike1502/mis_tareas/blob/main/Hola_mundo.ipynb\" target=\"_parent\"><img src=\"https://colab.research.google.com/assets/colab-badge.svg\" alt=\"Open In Colab\"/></a>"
      ]
    },
    {
      "cell_type": "code",
      "execution_count": 2,
      "metadata": {
        "id": "P88g5xcqADvg",
        "outputId": "663fdda0-11e5-4d5d-d373-bc27a17859c3",
        "colab": {
          "base_uri": "https://localhost:8080/"
        }
      },
      "outputs": [
        {
          "output_type": "stream",
          "name": "stdout",
          "text": [
            "Hola Mundo\n",
            "Mi primera prueba para guardar mi trabajo en github\n"
          ]
        }
      ],
      "source": [
        "print(\"Hola Mundo\")\n",
        "print(\"Mi primera prueba para guardar mi trabajo en github\")"
      ]
    }
  ]
}